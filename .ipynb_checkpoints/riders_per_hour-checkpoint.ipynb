{
 "cells": [
  {
   "cell_type": "code",
   "execution_count": 1,
   "metadata": {
    "collapsed": true
   },
   "outputs": [],
   "source": [
    "# import all necessary packages and functions.\n",
    "import datetime\n",
    "import numpy as np\n",
    "import pandas as pd\n",
    "import matplotlib.pyplot as plt"
   ]
  },
  {
   "cell_type": "code",
   "execution_count": 2,
   "metadata": {
    "collapsed": true
   },
   "outputs": [],
   "source": [
    "df_trip_201402 = pd.read_csv('201309_trip_data.csv', names=('TripID','Duration','Start_Date','Start_Station','Start_Terminal','End_Date','End_Station','End_Terminal','Bike','Subscription_Type','Zip_Code'), header = 0)\n",
    "df_trip_201402['Start_Date'] = pd.to_datetime(df_trip_201402['Start_Date'])"
   ]
  },
  {
   "cell_type": "code",
   "execution_count": 7,
   "metadata": {
    "collapsed": true
   },
   "outputs": [],
   "source": [
    "# Extract the date\n",
    "df_trip_201402[\"only_time\"] = [str(d.time()) for d in df_trip_201402[\"Start_Date\"]]\n",
    "df_trip_201402[\"only_hour\"] = 0\n",
    "only_hour = []\n",
    "for j in range(len(df_trip_201402.index)):\n",
    "    a = (df_trip_201402.iloc[j]['only_time'])\n",
    "    if (a[0] == '0'):\n",
    "        a = a[1]\n",
    "    else :\n",
    "        a = a[:2]\n",
    "    only_hour.append(int(a))\n",
    "    \n",
    "df_trip_201402[\"only_hour\"] = only_hour\n"
   ]
  },
  {
   "cell_type": "code",
   "execution_count": 19,
   "metadata": {
    "collapsed": true
   },
   "outputs": [],
   "source": [
    "hour = []\n",
    "for i in range(1,24):\n",
    "    hour.append(i)"
   ]
  },
  {
   "cell_type": "code",
   "execution_count": 21,
   "metadata": {
    "collapsed": true
   },
   "outputs": [],
   "source": [
    "df_bike = df_trip_201402[[\"only_hour\", \"Bike\"]]\n",
    "\n",
    "bike_count_l = []\n",
    "for j in hour:\n",
    "    b = df_bike[df_bike[\"only_hour\"] == j]\n",
    "    bike_count = b[\"Bike\"].sum()\n",
    "    bike_count_l.append(bike_count)"
   ]
  },
  {
   "cell_type": "code",
   "execution_count": 39,
   "metadata": {},
   "outputs": [
    {
     "data": {
      "image/png": "[encoded data removed]",
      "text/plain": [
       "<matplotlib.figure.Figure at 0x7f57ddea6e80>"
      ]
     },
     "metadata": {},
     "output_type": "display_data"
    }
   ],
   "source": [
    "colors = [\"#0098D4\"]\n",
    "x_plot = np.arange(len(hour))\n",
    "plt.figure(figsize=(10,7))\n",
    "patches = plt.bar(x_plot+1, bike_count_l,0.5, color=colors)\n",
    "plt.title(\"Costumers per hour\", fontsize = 15, fontweight = \"bold\")\n",
    "plt.ylabel('Costumers', fontsize = 15)\n",
    "plt.xlabel('Hours', fontsize = 15)\n",
    "plt.xticks(x_plot+1, hour)\n",
    "plt.yticks([0,200000,400000,600000,800000,1000000,1200000], [\"0L\",\"2L\",\"4L\",\"6L\",\"8L\",\"10L\",\"12L\"])\n",
    "plt.show()"
   ]
  },
  {
   "cell_type": "code",
   "execution_count": null,
   "metadata": {
    "collapsed": true
   },
   "outputs": [],
   "source": []
  }
 ],
 "metadata": {
  "kernelspec": {
   "display_name": "Python 3",
   "language": "python",
   "name": "python3"
  },
  "language_info": {
   "codemirror_mode": {
    "name": "ipython",
    "version": 3
   },
   "file_extension": ".py",
   "mimetype": "text/x-python",
   "name": "python",
   "nbconvert_exporter": "python",
   "pygments_lexer": "ipython3",
   "version": "3.5.2"
  }
 },
 "nbformat": 4,
 "nbformat_minor": 2
}
