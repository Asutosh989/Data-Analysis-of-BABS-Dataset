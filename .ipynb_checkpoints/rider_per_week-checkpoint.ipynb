{
 "cells": [
  {
   "cell_type": "code",
   "execution_count": 1,
   "metadata": {
    "collapsed": true
   },
   "outputs": [],
   "source": [
    "# import all necessary packages and functions.\n",
    "import datetime\n",
    "import numpy as np\n",
    "import pandas as pd\n",
    "import matplotlib.pyplot as plt"
   ]
  },
  {
   "cell_type": "code",
   "execution_count": 2,
   "metadata": {
    "collapsed": true
   },
   "outputs": [],
   "source": [
    "def days(day):\n",
    "    weekdays = {\"0\":\"Monday\", \"1\":\"Tuesday\", \"2\": \"Wednesday\", \"3\":\"Thursday\", \"4\":\"Friday\", \"5\":\"Saturday\", \"6\":\"Sunday\"}\n",
    "    return (weekdays[day])"
   ]
  },
  {
   "cell_type": "code",
   "execution_count": 3,
   "metadata": {
    "collapsed": true
   },
   "outputs": [],
   "source": [
    "weekday = [\"Monday\", \"Tuesday\",  \"Wednesday\", \"Thursday\", \"Friday\", \"Saturday\", \"Sunday\"]\n",
    "df_trip_201402 = pd.read_csv('201402_trip_data.csv', names=('TripID','Duration','Start_Date','Start_Station','Start_Terminal','End_Date','End_Station','End_Terminal','Bike','Subscription_Type','Zip_Code'), header = 0)\n",
    "df_trip_201402['Start_Date'] = pd.to_datetime(df_trip_201402['Start_Date'])"
   ]
  },
  {
   "cell_type": "code",
   "execution_count": 4,
   "metadata": {
    "collapsed": true
   },
   "outputs": [],
   "source": [
    "# Extract the date\n",
    "df_trip_201402[\"only_date\"] = [d.date() for d in df_trip_201402[\"Start_Date\"]]\n",
    "\n",
    "# Added a new column weekdays\n",
    "df_trip_201402[\"weekdays\"] = [days(str(d.weekday())) for d in df_trip_201402[\"only_date\"]]"
   ]
  },
  {
   "cell_type": "code",
   "execution_count": 5,
   "metadata": {
    "collapsed": true
   },
   "outputs": [],
   "source": [
    "def manipualte_list(a):\n",
    "    c = a[-1]\n",
    "    a.insert(0,c)\n",
    "    del a[-1]\n",
    "    return a"
   ]
  },
  {
   "cell_type": "code",
   "execution_count": 6,
   "metadata": {},
   "outputs": [
    {
     "name": "stdout",
     "output_type": "stream",
     "text": [
      "Number of Subscribers\n",
      "{'Monday': 19705, 'Saturday': 6073, 'Thursday': 21394, 'Friday': 19763, 'Wednesday': 20248, 'Tuesday': 21461, 'Sunday': 5003}\n",
      "[5003, 19705, 21461, 20248, 21394, 19763, 6073]\n",
      "Number of Costumers\n",
      "{'Monday': 3433, 'Saturday': 6340, 'Thursday': 3871, 'Friday': 4520, 'Wednesday': 3403, 'Tuesday': 3217, 'Sunday': 5584}\n",
      "[5584, 3433, 3217, 3403, 3871, 4520, 6340]\n",
      "Total number of riders\n",
      "{'Monday': 23138, 'Saturday': 12413, 'Thursday': 25265, 'Friday': 24283, 'Wednesday': 23651, 'Tuesday': 24678, 'Sunday': 10587}\n",
      "[10587, 23138, 24678, 23651, 25265, 24283, 12413]\n"
     ]
    }
   ],
   "source": [
    "sub = 0\n",
    "cust = 0\n",
    "su,cu,total = {},{},{}\n",
    "su_l, cu_l, total_l = [],[],[]\n",
    "\n",
    "for i in weekday:\n",
    "    subsc = df_trip_201402[df_trip_201402['weekdays'].str.contains(i)]\n",
    "    sub,cust = 0,0\n",
    "    for j in range(len(subsc.index)):\n",
    "        if (subsc.iloc[j]['Subscription_Type'] == \"Subscriber\"):\n",
    "            sub += 1\n",
    "        else:\n",
    "            cust +=1\n",
    "    su[i] = sub\n",
    "    su_l.append(sub)\n",
    "    cu[i] = cust\n",
    "    cu_l.append(cust)\n",
    "    total[i] = (sub + cust)\n",
    "    total_l.append(sub + cust)\n",
    "    \n",
    "su_l = manipualte_list(su_l)\n",
    "cu_l = manipualte_list(cu_l)\n",
    "total_l = manipualte_list(total_l)\n",
    "print(\"Number of Subscribers\")\n",
    "print(su)\n",
    "print(su_l)\n",
    "print(\"Number of Costumers\")\n",
    "print(cu)\n",
    "print(cu_l)\n",
    "print(\"Total number of riders\")\n",
    "print(total)\n",
    "print(total_l)"
   ]
  },
  {
   "cell_type": "code",
   "execution_count": 7,
   "metadata": {},
   "outputs": [
    {
     "data": {
      "image/png": "[encoded data removed]",
      "text/plain": [
       "<matplotlib.figure.Figure at 0x7fc9dc000550>"
      ]
     },
     "metadata": {},
     "output_type": "display_data"
    }
   ],
   "source": [
    "weekday = [\"Sunday\",\"Monday\", \"Tuesday\",  \"Wednesday\", \"Thursday\", \"Friday\", \"Saturday\"]\n",
    "x_plot = np.arange(len(weekday))\n",
    "bar_width = 0.4\n",
    "\n",
    "patch1 = plt.bar(x_plot+1, total_l, (bar_width*2), color=\"#ACE6FD\", label=\"total\")\n",
    "patch2 = plt.bar(x_plot+0.8, su_l, bar_width, label='Subscriber', color=\"#5CD1FE\")\n",
    "patch3 = plt.bar(x_plot+1.2, cu_l, bar_width, color=\"#0AB9FB\")\n",
    "plt.suptitle(\"Rides by Weekday\", fontsize = 25)\n",
    "plt.ylabel('Costumers')\n",
    "plt.xticks(x_plot+1, weekday, rotation='vertical')\n",
    "plt.yticks([0,5000,10000,15000,20000,25000],['0k','5k', '10k','15k','20k', '25k'])\n",
    "plt.legend((patch1,patch2,patch3),('Total','Subscriber','Customer'))\n",
    "\n",
    "plt.show()"
   ]
  }
 ],
 "metadata": {
  "kernelspec": {
   "display_name": "Python 3",
   "language": "python",
   "name": "python3"
  },
  "language_info": {
   "codemirror_mode": {
    "name": "ipython",
    "version": 3
   },
   "file_extension": ".py",
   "mimetype": "text/x-python",
   "name": "python",
   "nbconvert_exporter": "python",
   "pygments_lexer": "ipython3",
   "version": "3.5.2"
  }
 },
 "nbformat": 4,
 "nbformat_minor": 2
}
