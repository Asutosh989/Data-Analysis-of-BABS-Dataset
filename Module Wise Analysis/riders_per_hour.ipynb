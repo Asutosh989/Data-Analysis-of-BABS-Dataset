{
 "cells": [
  {
   "cell_type": "code",
   "execution_count": 1,
   "metadata": {
    "collapsed": true
   },
   "outputs": [],
   "source": [
    "# import all necessary packages and functions.\n",
    "import datetime\n",
    "import numpy as np\n",
    "import pandas as pd\n",
    "import matplotlib.pyplot as plt"
   ]
  },
  {
   "cell_type": "code",
   "execution_count": 2,
   "metadata": {
    "collapsed": true
   },
   "outputs": [],
   "source": [
    "df_trip_201402 = pd.read_csv('201309_trip_data.csv', names=('TripID','Duration','Start_Date','Start_Station','Start_Terminal','End_Date','End_Station','End_Terminal','Bike','Subscription_Type','Zip_Code'), header = 0)\n",
    "df_trip_201402['Start_Date'] = pd.to_datetime(df_trip_201402['Start_Date'])"
   ]
  },
  {
   "cell_type": "code",
   "execution_count": 3,
   "metadata": {
    "collapsed": true
   },
   "outputs": [],
   "source": [
    "# Extract the date\n",
    "df_trip_201402[\"only_time\"] = [str(d.time()) for d in df_trip_201402[\"Start_Date\"]]\n",
    "df_trip_201402[\"only_hour\"] = 0\n",
    "only_hour = []\n",
    "for j in range(len(df_trip_201402.index)):\n",
    "    a = (df_trip_201402.iloc[j]['only_time'])\n",
    "    if (a[0] == '0'):\n",
    "        a = a[1]\n",
    "    else :\n",
    "        a = a[:2]\n",
    "    only_hour.append(int(a))\n",
    "    \n",
    "df_trip_201402[\"only_hour\"] = only_hour\n"
   ]
  },
  {
   "cell_type": "code",
   "execution_count": 4,
   "metadata": {},
   "outputs": [
    {
     "name": "stdout",
     "output_type": "stream",
     "text": [
      "[1, 2, 3, 4, 5, 6, 7, 8, 9, 10, 11, 12, 13, 14, 15, 16, 17, 18, 19, 20, 21, 22, 23]\n"
     ]
    }
   ],
   "source": [
    "hour = []\n",
    "for i in range(1,24):\n",
    "    hour.append(i)\n",
    "print(hour)"
   ]
  },
  {
   "cell_type": "code",
   "execution_count": 5,
   "metadata": {
    "collapsed": true
   },
   "outputs": [],
   "source": [
    "sub,cust = 0,0\n",
    "su,cu,total = {},{},{}\n",
    "su_l,cu_l,total_l = [],[],[]\n",
    "df_bike = df_trip_201402[[\"only_hour\", \"Bike\", \"Subscription_Type\"]]\n",
    "bike_count_l = []\n",
    "for j in hour:\n",
    "    b = df_bike[df_bike[\"only_hour\"] == j]\n",
    "    sub,cust = 0,0\n",
    "    for i in range(len(b.index)):\n",
    "        if (b.iloc[i]['Subscription_Type'] == \"Subscriber\"):\n",
    "            sub += 1\n",
    "        else:\n",
    "            cust +=1\n",
    "    su[j] = sub\n",
    "    su_l.append(sub)\n",
    "    cu[j] = cust\n",
    "    cu_l.append(cust)\n",
    "    total[j] = (sub + cust)\n",
    "    total_l.append(sub + cust)"
   ]
  },
  {
   "cell_type": "code",
   "execution_count": 6,
   "metadata": {},
   "outputs": [
    {
     "data": {
      "image/png": "[encoded data removed]",
      "text/plain": [
       "<matplotlib.figure.Figure at 0x7f0fe7e95400>"
      ]
     },
     "metadata": {},
     "output_type": "display_data"
    }
   ],
   "source": [
    "x_plot = np.arange(len(hour))\n",
    "plt.figure(figsize=(16,6))\n",
    "bar_width = 0.4\n",
    "patch1 = plt.bar(x_plot+1, total_l, (bar_width*2), color=\"#ACE6FD\")\n",
    "patch2 = plt.bar(x_plot+0.8, su_l, bar_width, color=\"#5CD1FE\")\n",
    "patch3 = plt.bar(x_plot+1.2, cu_l, bar_width, color=\"#0AB9FB\")\n",
    "plt.title(\"Costumers per hour\", fontsize = 15, fontweight = \"bold\")\n",
    "plt.ylabel('Costumers', fontsize = 15)\n",
    "plt.xlabel('Hours', fontsize = 15)\n",
    "plt.xticks(x_plot+1, hour)\n",
    "plt.legend((patch1,patch2,patch3),('Total','Subscriber','Customer'))\n",
    "plt.show()"
   ]
  }
 ],
 "metadata": {
  "kernelspec": {
   "display_name": "Python 3",
   "language": "python",
   "name": "python3"
  },
  "language_info": {
   "codemirror_mode": {
    "name": "ipython",
    "version": 3
   },
   "file_extension": ".py",
   "mimetype": "text/x-python",
   "name": "python",
   "nbconvert_exporter": "python",
   "pygments_lexer": "ipython3",
   "version": "3.5.2"
  }
 },
 "nbformat": 4,
 "nbformat_minor": 2
}
